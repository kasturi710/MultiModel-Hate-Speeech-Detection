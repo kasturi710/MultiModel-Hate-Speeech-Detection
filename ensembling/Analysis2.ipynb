{
 "cells": [
  {
   "cell_type": "code",
   "execution_count": 1,
   "id": "5406bbc6",
   "metadata": {},
   "outputs": [],
   "source": [
    "import pandas as pd"
   ]
  },
  {
   "cell_type": "code",
   "execution_count": 2,
   "id": "4a10dd41",
   "metadata": {},
   "outputs": [],
   "source": [
    "import numpy as np"
   ]
  },
  {
   "cell_type": "markdown",
   "id": "2a3917d2",
   "metadata": {},
   "source": [
    "### Test Data Accuracy Comparison"
   ]
  },
  {
   "cell_type": "code",
   "execution_count": 3,
   "id": "1d77b85a",
   "metadata": {},
   "outputs": [],
   "source": [
    "## Read data\n",
    "data_concat_bert = pd.read_csv('BDdata/Concat_bert.csv')\n",
    "data_unimodal_image = pd.read_csv('BDdata/Unimodal_image.csv')\n",
    "data_unimodal_text = pd.read_csv('BDdata/Unimodal_text.csv')\n",
    "data_mmbt = pd.read_csv('BDdata/mmbt.csv')\n",
    "data_late_fusion = pd.read_csv('BDdata/Late_fusion.csv')"
   ]
  },
  {
   "cell_type": "code",
   "execution_count": 4,
   "id": "503f7d58",
   "metadata": {},
   "outputs": [
    {
     "name": "stdout",
     "output_type": "stream",
     "text": [
      "Concat_bert.csv     Unimodal_text.csv   late_fusion_val.csv test_unseen.jsonl\r\n",
      "Late_fusion.csv     concat_bert_val.csv mmbt.csv            uni_text_val.csv\r\n",
      "Uni_image_val.csv   dev_seen.jsonl      mmbt_val.csv\r\n",
      "Unimodal_image.csv  dev_unseen.jsonl    test_seen.jsonl\r\n"
     ]
    }
   ],
   "source": [
    "!ls BDdata"
   ]
  },
  {
   "cell_type": "code",
   "execution_count": 11,
   "id": "68667127",
   "metadata": {},
   "outputs": [],
   "source": [
    "truth_data = pd.read_json('BDdata/test_unseen.jsonl',lines=True)"
   ]
  },
  {
   "cell_type": "code",
   "execution_count": null,
   "id": "e81f9a7b",
   "metadata": {},
   "outputs": [],
   "source": [
    "truth_data[]"
   ]
  },
  {
   "cell_type": "code",
   "execution_count": 6,
   "id": "e6b0c00f",
   "metadata": {},
   "outputs": [],
   "source": [
    "truth_id = truth_data['id']"
   ]
  },
  {
   "cell_type": "code",
   "execution_count": 7,
   "id": "7409827b",
   "metadata": {},
   "outputs": [],
   "source": [
    "truth_label = truth_data['label']"
   ]
  },
  {
   "cell_type": "code",
   "execution_count": 8,
   "id": "ee67ca28",
   "metadata": {},
   "outputs": [],
   "source": [
    "truth = truth_id "
   ]
  },
  {
   "cell_type": "code",
   "execution_count": 9,
   "id": "d8b52371",
   "metadata": {},
   "outputs": [
    {
     "data": {
      "text/plain": [
       "0       15740\n",
       "1       38794\n",
       "2       60792\n",
       "3       71824\n",
       "4        4796\n",
       "        ...  \n",
       "1995    71352\n",
       "1996     2164\n",
       "1997     3587\n",
       "1998    47839\n",
       "1999    34281\n",
       "Name: id, Length: 2000, dtype: int64"
      ]
     },
     "execution_count": 9,
     "metadata": {},
     "output_type": "execute_result"
    }
   ],
   "source": [
    "truth_id"
   ]
  },
  {
   "cell_type": "code",
   "execution_count": 10,
   "id": "ab6f5d63",
   "metadata": {},
   "outputs": [
    {
     "data": {
      "text/html": [
       "<div>\n",
       "<style scoped>\n",
       "    .dataframe tbody tr th:only-of-type {\n",
       "        vertical-align: middle;\n",
       "    }\n",
       "\n",
       "    .dataframe tbody tr th {\n",
       "        vertical-align: top;\n",
       "    }\n",
       "\n",
       "    .dataframe thead th {\n",
       "        text-align: right;\n",
       "    }\n",
       "</style>\n",
       "<table border=\"1\" class=\"dataframe\">\n",
       "  <thead>\n",
       "    <tr style=\"text-align: right;\">\n",
       "      <th></th>\n",
       "      <th>id</th>\n",
       "      <th>proba</th>\n",
       "      <th>label</th>\n",
       "    </tr>\n",
       "  </thead>\n",
       "  <tbody>\n",
       "    <tr>\n",
       "      <th>0</th>\n",
       "      <td>15740</td>\n",
       "      <td>0.067281</td>\n",
       "      <td>0</td>\n",
       "    </tr>\n",
       "    <tr>\n",
       "      <th>1</th>\n",
       "      <td>38794</td>\n",
       "      <td>0.804931</td>\n",
       "      <td>1</td>\n",
       "    </tr>\n",
       "    <tr>\n",
       "      <th>2</th>\n",
       "      <td>60792</td>\n",
       "      <td>0.112230</td>\n",
       "      <td>0</td>\n",
       "    </tr>\n",
       "    <tr>\n",
       "      <th>3</th>\n",
       "      <td>71824</td>\n",
       "      <td>0.071473</td>\n",
       "      <td>0</td>\n",
       "    </tr>\n",
       "    <tr>\n",
       "      <th>4</th>\n",
       "      <td>4796</td>\n",
       "      <td>0.218671</td>\n",
       "      <td>0</td>\n",
       "    </tr>\n",
       "    <tr>\n",
       "      <th>...</th>\n",
       "      <td>...</td>\n",
       "      <td>...</td>\n",
       "      <td>...</td>\n",
       "    </tr>\n",
       "    <tr>\n",
       "      <th>1995</th>\n",
       "      <td>71352</td>\n",
       "      <td>0.340365</td>\n",
       "      <td>0</td>\n",
       "    </tr>\n",
       "    <tr>\n",
       "      <th>1996</th>\n",
       "      <td>2164</td>\n",
       "      <td>0.074915</td>\n",
       "      <td>0</td>\n",
       "    </tr>\n",
       "    <tr>\n",
       "      <th>1997</th>\n",
       "      <td>3587</td>\n",
       "      <td>0.188597</td>\n",
       "      <td>0</td>\n",
       "    </tr>\n",
       "    <tr>\n",
       "      <th>1998</th>\n",
       "      <td>47839</td>\n",
       "      <td>0.366481</td>\n",
       "      <td>0</td>\n",
       "    </tr>\n",
       "    <tr>\n",
       "      <th>1999</th>\n",
       "      <td>34281</td>\n",
       "      <td>0.039815</td>\n",
       "      <td>0</td>\n",
       "    </tr>\n",
       "  </tbody>\n",
       "</table>\n",
       "<p>2000 rows × 3 columns</p>\n",
       "</div>"
      ],
      "text/plain": [
       "         id     proba  label\n",
       "0     15740  0.067281      0\n",
       "1     38794  0.804931      1\n",
       "2     60792  0.112230      0\n",
       "3     71824  0.071473      0\n",
       "4      4796  0.218671      0\n",
       "...     ...       ...    ...\n",
       "1995  71352  0.340365      0\n",
       "1996   2164  0.074915      0\n",
       "1997   3587  0.188597      0\n",
       "1998  47839  0.366481      0\n",
       "1999  34281  0.039815      0\n",
       "\n",
       "[2000 rows x 3 columns]"
      ]
     },
     "execution_count": 10,
     "metadata": {},
     "output_type": "execute_result"
    }
   ],
   "source": [
    "data_concat_bert"
   ]
  },
  {
   "cell_type": "code",
   "execution_count": 17,
   "id": "754d9379",
   "metadata": {},
   "outputs": [],
   "source": [
    "from sklearn.metrics import accuracy_score\n"
   ]
  },
  {
   "cell_type": "markdown",
   "id": "95017a68",
   "metadata": {},
   "source": [
    "#### Accuracy Scores"
   ]
  },
  {
   "cell_type": "code",
   "execution_count": 12,
   "id": "7ebe8031",
   "metadata": {},
   "outputs": [
    {
     "data": {
      "text/plain": [
       "0.6555"
      ]
     },
     "execution_count": 12,
     "metadata": {},
     "output_type": "execute_result"
    }
   ],
   "source": [
    "accuracy_score(data_concat_bert['label'],truth_label)"
   ]
  },
  {
   "cell_type": "code",
   "execution_count": 13,
   "id": "fc43f44e",
   "metadata": {},
   "outputs": [
    {
     "data": {
      "text/plain": [
       "0.612"
      ]
     },
     "execution_count": 13,
     "metadata": {},
     "output_type": "execute_result"
    }
   ],
   "source": [
    "accuracy_score(data_unimodal_image['label'],truth_label)"
   ]
  },
  {
   "cell_type": "code",
   "execution_count": 14,
   "id": "b20c1cc7",
   "metadata": {},
   "outputs": [
    {
     "data": {
      "text/plain": [
       "0.6365"
      ]
     },
     "execution_count": 14,
     "metadata": {},
     "output_type": "execute_result"
    }
   ],
   "source": [
    "accuracy_score(data_unimodal_text['label'],truth_label)"
   ]
  },
  {
   "cell_type": "code",
   "execution_count": 15,
   "id": "63e0b99f",
   "metadata": {},
   "outputs": [
    {
     "data": {
      "text/plain": [
       "0.6505"
      ]
     },
     "execution_count": 15,
     "metadata": {},
     "output_type": "execute_result"
    }
   ],
   "source": [
    "accuracy_score(data_mmbt['label'],truth_label)"
   ]
  },
  {
   "cell_type": "code",
   "execution_count": 16,
   "id": "1fadf7ff",
   "metadata": {},
   "outputs": [
    {
     "data": {
      "text/plain": [
       "0.6475"
      ]
     },
     "execution_count": 16,
     "metadata": {},
     "output_type": "execute_result"
    }
   ],
   "source": [
    "accuracy_score(data_late_fusion['label'],truth_label)"
   ]
  },
  {
   "cell_type": "code",
   "execution_count": 17,
   "id": "156787b0",
   "metadata": {},
   "outputs": [],
   "source": [
    "from sklearn.metrics import confusion_matrix"
   ]
  },
  {
   "cell_type": "markdown",
   "id": "c3ab63d5",
   "metadata": {},
   "source": [
    "#### Confusion Matrix"
   ]
  },
  {
   "cell_type": "code",
   "execution_count": 18,
   "id": "6887e435",
   "metadata": {},
   "outputs": [
    {
     "data": {
      "text/plain": [
       "array([[1102,  541],\n",
       "       [ 148,  209]])"
      ]
     },
     "execution_count": 18,
     "metadata": {},
     "output_type": "execute_result"
    }
   ],
   "source": [
    "confusion_matrix(data_concat_bert['label'],truth_label)"
   ]
  },
  {
   "cell_type": "code",
   "execution_count": 19,
   "id": "aff7afb8",
   "metadata": {},
   "outputs": [
    {
     "data": {
      "text/plain": [
       "array([[1156,  682],\n",
       "       [  94,   68]])"
      ]
     },
     "execution_count": 19,
     "metadata": {},
     "output_type": "execute_result"
    }
   ],
   "source": [
    "confusion_matrix(data_unimodal_image['label'],truth_label)"
   ]
  },
  {
   "cell_type": "code",
   "execution_count": 20,
   "id": "f44ed3f2",
   "metadata": {},
   "outputs": [
    {
     "data": {
      "text/plain": [
       "array([[1061,  538],\n",
       "       [ 189,  212]])"
      ]
     },
     "execution_count": 20,
     "metadata": {},
     "output_type": "execute_result"
    }
   ],
   "source": [
    "confusion_matrix(data_unimodal_text['label'],truth_label)"
   ]
  },
  {
   "cell_type": "code",
   "execution_count": 21,
   "id": "7b55ca68",
   "metadata": {},
   "outputs": [
    {
     "data": {
      "text/plain": [
       "array([[1150,  599],\n",
       "       [ 100,  151]])"
      ]
     },
     "execution_count": 21,
     "metadata": {},
     "output_type": "execute_result"
    }
   ],
   "source": [
    "confusion_matrix(data_mmbt['label'],truth_label)"
   ]
  },
  {
   "cell_type": "code",
   "execution_count": 22,
   "id": "1298a311",
   "metadata": {},
   "outputs": [
    {
     "data": {
      "text/plain": [
       "array([[1000,  455],\n",
       "       [ 250,  295]])"
      ]
     },
     "execution_count": 22,
     "metadata": {},
     "output_type": "execute_result"
    }
   ],
   "source": [
    "confusion_matrix(data_late_fusion['label'],truth_label)"
   ]
  },
  {
   "cell_type": "markdown",
   "id": "3374f533",
   "metadata": {},
   "source": [
    "#### F1 scores"
   ]
  },
  {
   "cell_type": "code",
   "execution_count": 23,
   "id": "b1a6a8b5",
   "metadata": {},
   "outputs": [
    {
     "data": {
      "text/plain": [
       "0.37759710930442636"
      ]
     },
     "execution_count": 23,
     "metadata": {},
     "output_type": "execute_result"
    }
   ],
   "source": [
    "from sklearn.metrics import f1_score\n",
    "f1_score(data_concat_bert['label'],truth_label)"
   ]
  },
  {
   "cell_type": "code",
   "execution_count": 24,
   "id": "3f316058",
   "metadata": {},
   "outputs": [
    {
     "data": {
      "text/plain": [
       "0.14912280701754388"
      ]
     },
     "execution_count": 24,
     "metadata": {},
     "output_type": "execute_result"
    }
   ],
   "source": [
    "f1_score(data_unimodal_image['label'],truth_label)"
   ]
  },
  {
   "cell_type": "code",
   "execution_count": 25,
   "id": "5d95200c",
   "metadata": {},
   "outputs": [
    {
     "data": {
      "text/plain": [
       "0.368375325803649"
      ]
     },
     "execution_count": 25,
     "metadata": {},
     "output_type": "execute_result"
    }
   ],
   "source": [
    "f1_score(data_unimodal_text['label'],truth_label)"
   ]
  },
  {
   "cell_type": "code",
   "execution_count": 26,
   "id": "ae6596da",
   "metadata": {},
   "outputs": [
    {
     "data": {
      "text/plain": [
       "0.3016983016983017"
      ]
     },
     "execution_count": 26,
     "metadata": {},
     "output_type": "execute_result"
    }
   ],
   "source": [
    "f1_score(data_mmbt['label'],truth_label)"
   ]
  },
  {
   "cell_type": "code",
   "execution_count": 27,
   "id": "820157e7",
   "metadata": {},
   "outputs": [
    {
     "data": {
      "text/plain": [
       "0.4555984555984556"
      ]
     },
     "execution_count": 27,
     "metadata": {},
     "output_type": "execute_result"
    }
   ],
   "source": [
    "f1_score(data_late_fusion['label'],truth_label)"
   ]
  },
  {
   "cell_type": "code",
   "execution_count": 18,
   "id": "e86dd481",
   "metadata": {},
   "outputs": [],
   "source": [
    "output2 = data_mmbt[data_mmbt['label'] != truth_label]"
   ]
  },
  {
   "cell_type": "code",
   "execution_count": 19,
   "id": "77cc5533",
   "metadata": {},
   "outputs": [
    {
     "data": {
      "text/plain": [
       "0      15740\n",
       "2      60792\n",
       "3      71824\n",
       "4       4796\n",
       "5      75310\n",
       "       ...  \n",
       "742    12594\n",
       "744    10647\n",
       "745    18732\n",
       "747    32604\n",
       "748    98013\n",
       "Name: id, Length: 599, dtype: int64"
      ]
     },
     "execution_count": 19,
     "metadata": {},
     "output_type": "execute_result"
    }
   ],
   "source": [
    "output2[output2['label'] == 0]['id'] #False Negative 0-nonhateful"
   ]
  },
  {
   "cell_type": "code",
   "execution_count": 22,
   "id": "442022a7",
   "metadata": {},
   "outputs": [
    {
     "data": {
      "text/plain": [
       "874    41967\n",
       "876    90617\n",
       "882    56023\n",
       "892    28576\n",
       "894    62781\n",
       "911    46759\n",
       "922    58621\n",
       "925    53148\n",
       "Name: id, dtype: int64"
      ]
     },
     "execution_count": 22,
     "metadata": {},
     "output_type": "execute_result"
    }
   ],
   "source": [
    "output2[output2['label'] == 1]['id'][10:18] ## False Positive 1-hateful"
   ]
  },
  {
   "cell_type": "code",
   "execution_count": 31,
   "id": "a724b5af",
   "metadata": {},
   "outputs": [
    {
     "data": {
      "text/html": [
       "<div>\n",
       "<style scoped>\n",
       "    .dataframe tbody tr th:only-of-type {\n",
       "        vertical-align: middle;\n",
       "    }\n",
       "\n",
       "    .dataframe tbody tr th {\n",
       "        vertical-align: top;\n",
       "    }\n",
       "\n",
       "    .dataframe thead th {\n",
       "        text-align: right;\n",
       "    }\n",
       "</style>\n",
       "<table border=\"1\" class=\"dataframe\">\n",
       "  <thead>\n",
       "    <tr style=\"text-align: right;\">\n",
       "      <th></th>\n",
       "      <th>id</th>\n",
       "      <th>proba</th>\n",
       "      <th>label</th>\n",
       "    </tr>\n",
       "  </thead>\n",
       "  <tbody>\n",
       "    <tr>\n",
       "      <th>749</th>\n",
       "      <td>49052</td>\n",
       "      <td>0.917523</td>\n",
       "      <td>1</td>\n",
       "    </tr>\n",
       "  </tbody>\n",
       "</table>\n",
       "</div>"
      ],
      "text/plain": [
       "        id     proba  label\n",
       "749  49052  0.917523      1"
      ]
     },
     "execution_count": 31,
     "metadata": {},
     "output_type": "execute_result"
    }
   ],
   "source": [
    "data_concat_bert[data_unimodal_image['id'] == 49052]"
   ]
  },
  {
   "cell_type": "code",
   "execution_count": 32,
   "id": "55b22902",
   "metadata": {},
   "outputs": [
    {
     "data": {
      "text/html": [
       "<div>\n",
       "<style scoped>\n",
       "    .dataframe tbody tr th:only-of-type {\n",
       "        vertical-align: middle;\n",
       "    }\n",
       "\n",
       "    .dataframe tbody tr th {\n",
       "        vertical-align: top;\n",
       "    }\n",
       "\n",
       "    .dataframe thead th {\n",
       "        text-align: right;\n",
       "    }\n",
       "</style>\n",
       "<table border=\"1\" class=\"dataframe\">\n",
       "  <thead>\n",
       "    <tr style=\"text-align: right;\">\n",
       "      <th></th>\n",
       "      <th>id</th>\n",
       "      <th>proba</th>\n",
       "      <th>label</th>\n",
       "    </tr>\n",
       "  </thead>\n",
       "  <tbody>\n",
       "    <tr>\n",
       "      <th>749</th>\n",
       "      <td>49052</td>\n",
       "      <td>0.912873</td>\n",
       "      <td>1</td>\n",
       "    </tr>\n",
       "  </tbody>\n",
       "</table>\n",
       "</div>"
      ],
      "text/plain": [
       "        id     proba  label\n",
       "749  49052  0.912873      1"
      ]
     },
     "execution_count": 32,
     "metadata": {},
     "output_type": "execute_result"
    }
   ],
   "source": [
    "data_unimodal_text[data_unimodal_image['id'] == 49052]"
   ]
  },
  {
   "cell_type": "code",
   "execution_count": 33,
   "id": "b54f0cad",
   "metadata": {},
   "outputs": [
    {
     "data": {
      "text/html": [
       "<div>\n",
       "<style scoped>\n",
       "    .dataframe tbody tr th:only-of-type {\n",
       "        vertical-align: middle;\n",
       "    }\n",
       "\n",
       "    .dataframe tbody tr th {\n",
       "        vertical-align: top;\n",
       "    }\n",
       "\n",
       "    .dataframe thead th {\n",
       "        text-align: right;\n",
       "    }\n",
       "</style>\n",
       "<table border=\"1\" class=\"dataframe\">\n",
       "  <thead>\n",
       "    <tr style=\"text-align: right;\">\n",
       "      <th></th>\n",
       "      <th>id</th>\n",
       "      <th>proba</th>\n",
       "      <th>label</th>\n",
       "    </tr>\n",
       "  </thead>\n",
       "  <tbody>\n",
       "    <tr>\n",
       "      <th>749</th>\n",
       "      <td>49052</td>\n",
       "      <td>0.838254</td>\n",
       "      <td>1</td>\n",
       "    </tr>\n",
       "  </tbody>\n",
       "</table>\n",
       "</div>"
      ],
      "text/plain": [
       "        id     proba  label\n",
       "749  49052  0.838254      1"
      ]
     },
     "execution_count": 33,
     "metadata": {},
     "output_type": "execute_result"
    }
   ],
   "source": [
    "data_mmbt[data_unimodal_image['id'] == 49052]"
   ]
  },
  {
   "cell_type": "code",
   "execution_count": 34,
   "id": "4a1d64d7",
   "metadata": {},
   "outputs": [
    {
     "data": {
      "text/html": [
       "<div>\n",
       "<style scoped>\n",
       "    .dataframe tbody tr th:only-of-type {\n",
       "        vertical-align: middle;\n",
       "    }\n",
       "\n",
       "    .dataframe tbody tr th {\n",
       "        vertical-align: top;\n",
       "    }\n",
       "\n",
       "    .dataframe thead th {\n",
       "        text-align: right;\n",
       "    }\n",
       "</style>\n",
       "<table border=\"1\" class=\"dataframe\">\n",
       "  <thead>\n",
       "    <tr style=\"text-align: right;\">\n",
       "      <th></th>\n",
       "      <th>id</th>\n",
       "      <th>proba</th>\n",
       "      <th>label</th>\n",
       "    </tr>\n",
       "  </thead>\n",
       "  <tbody>\n",
       "    <tr>\n",
       "      <th>749</th>\n",
       "      <td>49052</td>\n",
       "      <td>0.926233</td>\n",
       "      <td>1</td>\n",
       "    </tr>\n",
       "  </tbody>\n",
       "</table>\n",
       "</div>"
      ],
      "text/plain": [
       "        id     proba  label\n",
       "749  49052  0.926233      1"
      ]
     },
     "execution_count": 34,
     "metadata": {},
     "output_type": "execute_result"
    }
   ],
   "source": [
    "data_late_fusion[data_unimodal_image['id'] == 49052]"
   ]
  },
  {
   "cell_type": "markdown",
   "id": "9ef449d7",
   "metadata": {},
   "source": [
    "## Validation Data Accuracy Comparison"
   ]
  },
  {
   "cell_type": "code",
   "execution_count": 38,
   "id": "13d12944",
   "metadata": {},
   "outputs": [],
   "source": [
    "truth_data1 = pd.read_json('BDdata/dev_unseen.jsonl',lines=True)"
   ]
  },
  {
   "cell_type": "code",
   "execution_count": 39,
   "id": "1f02bdfa",
   "metadata": {},
   "outputs": [
    {
     "data": {
      "text/html": [
       "<div>\n",
       "<style scoped>\n",
       "    .dataframe tbody tr th:only-of-type {\n",
       "        vertical-align: middle;\n",
       "    }\n",
       "\n",
       "    .dataframe tbody tr th {\n",
       "        vertical-align: top;\n",
       "    }\n",
       "\n",
       "    .dataframe thead th {\n",
       "        text-align: right;\n",
       "    }\n",
       "</style>\n",
       "<table border=\"1\" class=\"dataframe\">\n",
       "  <thead>\n",
       "    <tr style=\"text-align: right;\">\n",
       "      <th></th>\n",
       "      <th>id</th>\n",
       "      <th>img</th>\n",
       "      <th>label</th>\n",
       "      <th>text</th>\n",
       "    </tr>\n",
       "  </thead>\n",
       "  <tbody>\n",
       "    <tr>\n",
       "      <th>0</th>\n",
       "      <td>76432</td>\n",
       "      <td>img/76432.png</td>\n",
       "      <td>0</td>\n",
       "      <td>you thinking what i'm thinking?</td>\n",
       "    </tr>\n",
       "    <tr>\n",
       "      <th>1</th>\n",
       "      <td>14270</td>\n",
       "      <td>img/14270.png</td>\n",
       "      <td>0</td>\n",
       "      <td>a brilliant mind</td>\n",
       "    </tr>\n",
       "    <tr>\n",
       "      <th>2</th>\n",
       "      <td>56947</td>\n",
       "      <td>img/56947.png</td>\n",
       "      <td>0</td>\n",
       "      <td>pro gamer 6.000.000 kills, 1 death</td>\n",
       "    </tr>\n",
       "    <tr>\n",
       "      <th>3</th>\n",
       "      <td>35174</td>\n",
       "      <td>img/35174.png</td>\n",
       "      <td>0</td>\n",
       "      <td>lets end poaching</td>\n",
       "    </tr>\n",
       "    <tr>\n",
       "      <th>4</th>\n",
       "      <td>39264</td>\n",
       "      <td>img/39264.png</td>\n",
       "      <td>0</td>\n",
       "      <td>my wife called me a good husband thats a huge ...</td>\n",
       "    </tr>\n",
       "    <tr>\n",
       "      <th>...</th>\n",
       "      <td>...</td>\n",
       "      <td>...</td>\n",
       "      <td>...</td>\n",
       "      <td>...</td>\n",
       "    </tr>\n",
       "    <tr>\n",
       "      <th>535</th>\n",
       "      <td>83675</td>\n",
       "      <td>img/83675.png</td>\n",
       "      <td>0</td>\n",
       "      <td>i'm gonna be like phelps one day</td>\n",
       "    </tr>\n",
       "    <tr>\n",
       "      <th>536</th>\n",
       "      <td>37198</td>\n",
       "      <td>img/37198.png</td>\n",
       "      <td>0</td>\n",
       "      <td>when you're so relaxed you can feel yourself g...</td>\n",
       "    </tr>\n",
       "    <tr>\n",
       "      <th>537</th>\n",
       "      <td>48670</td>\n",
       "      <td>img/48670.png</td>\n",
       "      <td>0</td>\n",
       "      <td>look at this sandwich maker club i found on wi...</td>\n",
       "    </tr>\n",
       "    <tr>\n",
       "      <th>538</th>\n",
       "      <td>9863</td>\n",
       "      <td>img/09863.png</td>\n",
       "      <td>0</td>\n",
       "      <td>diverse group of women</td>\n",
       "    </tr>\n",
       "    <tr>\n",
       "      <th>539</th>\n",
       "      <td>97320</td>\n",
       "      <td>img/97320.png</td>\n",
       "      <td>0</td>\n",
       "      <td>\"when your dishwasher is broken so you take it...</td>\n",
       "    </tr>\n",
       "  </tbody>\n",
       "</table>\n",
       "<p>540 rows × 4 columns</p>\n",
       "</div>"
      ],
      "text/plain": [
       "        id            img  label  \\\n",
       "0    76432  img/76432.png      0   \n",
       "1    14270  img/14270.png      0   \n",
       "2    56947  img/56947.png      0   \n",
       "3    35174  img/35174.png      0   \n",
       "4    39264  img/39264.png      0   \n",
       "..     ...            ...    ...   \n",
       "535  83675  img/83675.png      0   \n",
       "536  37198  img/37198.png      0   \n",
       "537  48670  img/48670.png      0   \n",
       "538   9863  img/09863.png      0   \n",
       "539  97320  img/97320.png      0   \n",
       "\n",
       "                                                  text  \n",
       "0                      you thinking what i'm thinking?  \n",
       "1                                     a brilliant mind  \n",
       "2                   pro gamer 6.000.000 kills, 1 death  \n",
       "3                                    lets end poaching  \n",
       "4    my wife called me a good husband thats a huge ...  \n",
       "..                                                 ...  \n",
       "535                   i'm gonna be like phelps one day  \n",
       "536  when you're so relaxed you can feel yourself g...  \n",
       "537  look at this sandwich maker club i found on wi...  \n",
       "538                             diverse group of women  \n",
       "539  \"when your dishwasher is broken so you take it...  \n",
       "\n",
       "[540 rows x 4 columns]"
      ]
     },
     "execution_count": 39,
     "metadata": {},
     "output_type": "execute_result"
    }
   ],
   "source": [
    "truth_data1"
   ]
  },
  {
   "cell_type": "code",
   "execution_count": 40,
   "id": "801f6f08",
   "metadata": {},
   "outputs": [
    {
     "data": {
      "text/plain": [
       "0      0\n",
       "1      0\n",
       "2      0\n",
       "3      0\n",
       "4      0\n",
       "      ..\n",
       "535    0\n",
       "536    0\n",
       "537    0\n",
       "538    0\n",
       "539    0\n",
       "Name: label, Length: 540, dtype: int64"
      ]
     },
     "execution_count": 40,
     "metadata": {},
     "output_type": "execute_result"
    }
   ],
   "source": [
    "truth_label1 = truth_data1['label']\n",
    "truth_label1"
   ]
  },
  {
   "cell_type": "code",
   "execution_count": 41,
   "id": "9ab1ddf1",
   "metadata": {},
   "outputs": [],
   "source": [
    "data_concatBert_val = pd.read_csv('BDdata/concat_bert_val.csv')\n",
    "data_uniImage_val = pd.read_csv('BDdata/Uni_image_val.csv')\n",
    "data_uniText_val = pd.read_csv('BDdata/uni_text_val.csv')\n",
    "data_mmbt_val = pd.read_csv('BDdata/mmbt_val.csv')\n",
    "data_lateFusion_val = pd.read_csv('BDdata/late_fusion_val.csv')"
   ]
  },
  {
   "cell_type": "code",
   "execution_count": 42,
   "id": "255eb796",
   "metadata": {},
   "outputs": [
    {
     "name": "stdout",
     "output_type": "stream",
     "text": [
      "Concat_bert.csv     Unimodal_text.csv   late_fusion_val.csv test_unseen.jsonl\r\n",
      "Late_fusion.csv     concat_bert_val.csv mmbt.csv            uni_text_val.csv\r\n",
      "Uni_image_val.csv   dev_seen.jsonl      mmbt_val.csv\r\n",
      "Unimodal_image.csv  dev_unseen.jsonl    test_seen.jsonl\r\n"
     ]
    }
   ],
   "source": [
    "!ls Bddata"
   ]
  },
  {
   "cell_type": "markdown",
   "id": "db83c62b",
   "metadata": {},
   "source": [
    "#### F1 scores"
   ]
  },
  {
   "cell_type": "code",
   "execution_count": 43,
   "id": "0468e865",
   "metadata": {},
   "outputs": [
    {
     "data": {
      "text/plain": [
       "0.3389830508474576"
      ]
     },
     "execution_count": 43,
     "metadata": {},
     "output_type": "execute_result"
    }
   ],
   "source": [
    "f1_score(data_concatBert_val['label'],truth_label1)"
   ]
  },
  {
   "cell_type": "code",
   "execution_count": 44,
   "id": "dda3e5ac",
   "metadata": {},
   "outputs": [
    {
     "data": {
      "text/plain": [
       "0.14592274678111591"
      ]
     },
     "execution_count": 44,
     "metadata": {},
     "output_type": "execute_result"
    }
   ],
   "source": [
    "f1_score(data_uniImage_val['label'],truth_label1)"
   ]
  },
  {
   "cell_type": "code",
   "execution_count": 45,
   "id": "08f988c9",
   "metadata": {},
   "outputs": [
    {
     "data": {
      "text/plain": [
       "0.3450479233226837"
      ]
     },
     "execution_count": 45,
     "metadata": {},
     "output_type": "execute_result"
    }
   ],
   "source": [
    "f1_score(data_uniText_val['label'],truth_label1)"
   ]
  },
  {
   "cell_type": "code",
   "execution_count": 46,
   "id": "0d228e9e",
   "metadata": {},
   "outputs": [
    {
     "data": {
      "text/plain": [
       "0.24521072796934865"
      ]
     },
     "execution_count": 46,
     "metadata": {},
     "output_type": "execute_result"
    }
   ],
   "source": [
    "f1_score(data_mmbt_val['label'],truth_label1)"
   ]
  },
  {
   "cell_type": "code",
   "execution_count": 47,
   "id": "922a052b",
   "metadata": {},
   "outputs": [
    {
     "data": {
      "text/plain": [
       "0.4092219020172911"
      ]
     },
     "execution_count": 47,
     "metadata": {},
     "output_type": "execute_result"
    }
   ],
   "source": [
    "f1_score(data_lateFusion_val['label'],truth_label1)"
   ]
  },
  {
   "cell_type": "markdown",
   "id": "d4fd5aab",
   "metadata": {},
   "source": [
    "#### Accuracy Scores"
   ]
  },
  {
   "cell_type": "code",
   "execution_count": 48,
   "id": "2ff120be",
   "metadata": {},
   "outputs": [
    {
     "data": {
      "text/plain": [
       "0.6388888888888888"
      ]
     },
     "execution_count": 48,
     "metadata": {},
     "output_type": "execute_result"
    }
   ],
   "source": [
    "accuracy_score(data_concatBert_val['label'],truth_label1)"
   ]
  },
  {
   "cell_type": "code",
   "execution_count": 49,
   "id": "405c6e09",
   "metadata": {},
   "outputs": [
    {
     "data": {
      "text/plain": [
       "0.6314814814814815"
      ]
     },
     "execution_count": 49,
     "metadata": {},
     "output_type": "execute_result"
    }
   ],
   "source": [
    "accuracy_score(data_uniImage_val['label'],truth_label1)"
   ]
  },
  {
   "cell_type": "code",
   "execution_count": 50,
   "id": "2a6f39b4",
   "metadata": {},
   "outputs": [
    {
     "data": {
      "text/plain": [
       "0.6203703703703703"
      ]
     },
     "execution_count": 50,
     "metadata": {},
     "output_type": "execute_result"
    }
   ],
   "source": [
    "accuracy_score(data_uniText_val['label'],truth_label1)"
   ]
  },
  {
   "cell_type": "code",
   "execution_count": 51,
   "id": "2c07ea8a",
   "metadata": {},
   "outputs": [
    {
     "data": {
      "text/plain": [
       "0.6351851851851852"
      ]
     },
     "execution_count": 51,
     "metadata": {},
     "output_type": "execute_result"
    }
   ],
   "source": [
    "accuracy_score(data_mmbt_val['label'],truth_label1)"
   ]
  },
  {
   "cell_type": "code",
   "execution_count": 52,
   "id": "f042a3a6",
   "metadata": {},
   "outputs": [
    {
     "data": {
      "text/plain": [
       "0.6203703703703703"
      ]
     },
     "execution_count": 52,
     "metadata": {},
     "output_type": "execute_result"
    }
   ],
   "source": [
    "accuracy_score(data_lateFusion_val['label'],truth_label1)"
   ]
  },
  {
   "cell_type": "markdown",
   "id": "bbe45cb3",
   "metadata": {},
   "source": [
    "#### Confusion Matrix"
   ]
  },
  {
   "cell_type": "code",
   "execution_count": 53,
   "id": "654efbc8",
   "metadata": {},
   "outputs": [
    {
     "data": {
      "text/plain": [
       "array([[295, 150],\n",
       "       [ 45,  50]])"
      ]
     },
     "execution_count": 53,
     "metadata": {},
     "output_type": "execute_result"
    }
   ],
   "source": [
    "confusion_matrix(data_concatBert_val['label'],truth_label1)"
   ]
  },
  {
   "cell_type": "code",
   "execution_count": 54,
   "id": "4de02a01",
   "metadata": {},
   "outputs": [
    {
     "data": {
      "text/plain": [
       "array([[324, 183],\n",
       "       [ 16,  17]])"
      ]
     },
     "execution_count": 54,
     "metadata": {},
     "output_type": "execute_result"
    }
   ],
   "source": [
    "confusion_matrix(data_uniImage_val['label'],truth_label1)"
   ]
  },
  {
   "cell_type": "code",
   "execution_count": 55,
   "id": "3403b55a",
   "metadata": {},
   "outputs": [
    {
     "data": {
      "text/plain": [
       "array([[281, 146],\n",
       "       [ 59,  54]])"
      ]
     },
     "execution_count": 55,
     "metadata": {},
     "output_type": "execute_result"
    }
   ],
   "source": [
    "confusion_matrix(data_uniText_val['label'],truth_label1)"
   ]
  },
  {
   "cell_type": "code",
   "execution_count": 56,
   "id": "692137e3",
   "metadata": {},
   "outputs": [
    {
     "data": {
      "text/plain": [
       "array([[311, 168],\n",
       "       [ 29,  32]])"
      ]
     },
     "execution_count": 56,
     "metadata": {},
     "output_type": "execute_result"
    }
   ],
   "source": [
    "confusion_matrix(data_mmbt_val['label'],truth_label1)"
   ]
  },
  {
   "cell_type": "code",
   "execution_count": 57,
   "id": "300cc1fa",
   "metadata": {},
   "outputs": [
    {
     "data": {
      "text/plain": [
       "array([[264, 129],\n",
       "       [ 76,  71]])"
      ]
     },
     "execution_count": 57,
     "metadata": {},
     "output_type": "execute_result"
    }
   ],
   "source": [
    "confusion_matrix(data_lateFusion_val['label'],truth_label1)"
   ]
  },
  {
   "cell_type": "markdown",
   "id": "2dcd6b7e",
   "metadata": {},
   "source": [
    "# Ensembling Test Set"
   ]
  },
  {
   "cell_type": "code",
   "execution_count": 76,
   "id": "a3910dba",
   "metadata": {},
   "outputs": [
    {
     "name": "stdout",
     "output_type": "stream",
     "text": [
      "[1 1 1]\n"
     ]
    }
   ],
   "source": [
    "arr1 = np.array(data_concat_bert['label'])\n",
    "arr2 = np.array(data_mmbt['label'])\n",
    "arr3 = np.array(data_late_fusion['label'])\n",
    "result = np.stack((arr1.T, arr2.T, arr3.T), axis=1)"
   ]
  },
  {
   "cell_type": "code",
   "execution_count": 78,
   "id": "46725475",
   "metadata": {},
   "outputs": [],
   "source": [
    "from collections import Counter"
   ]
  },
  {
   "cell_type": "code",
   "execution_count": 96,
   "id": "d52224a6",
   "metadata": {},
   "outputs": [
    {
     "data": {
      "text/plain": [
       "345"
      ]
     },
     "execution_count": 96,
     "metadata": {},
     "output_type": "execute_result"
    }
   ],
   "source": [
    "array = []\n",
    "for i in range(result.shape[0]):\n",
    "    x = Counter(result[i])\n",
    "    array.append(x.most_common(1)[0][0])\n",
    "    \n",
    "array = np.array(array)"
   ]
  },
  {
   "cell_type": "code",
   "execution_count": 95,
   "id": "4f41f930",
   "metadata": {},
   "outputs": [
    {
     "data": {
      "text/plain": [
       "357"
      ]
     },
     "execution_count": 95,
     "metadata": {},
     "output_type": "execute_result"
    }
   ],
   "source": [
    "model_ensemble = data_concat_bert.copy()"
   ]
  },
  {
   "cell_type": "code",
   "execution_count": 97,
   "id": "cc120f09",
   "metadata": {},
   "outputs": [],
   "source": [
    "model_ensemble['label'] = array"
   ]
  },
  {
   "cell_type": "markdown",
   "id": "14240aed",
   "metadata": {},
   "source": [
    "### Ensemble accuracy, F1 scores and confusion matrix Test set"
   ]
  },
  {
   "cell_type": "code",
   "execution_count": 99,
   "id": "048a75bb",
   "metadata": {},
   "outputs": [
    {
     "data": {
      "text/plain": [
       "0.6575"
      ]
     },
     "execution_count": 99,
     "metadata": {},
     "output_type": "execute_result"
    }
   ],
   "source": [
    "accuracy_score(model_ensemble['label'],truth_label)"
   ]
  },
  {
   "cell_type": "code",
   "execution_count": 100,
   "id": "b34e868b",
   "metadata": {},
   "outputs": [
    {
     "data": {
      "text/plain": [
       "0.3744292237442922"
      ]
     },
     "execution_count": 100,
     "metadata": {},
     "output_type": "execute_result"
    }
   ],
   "source": [
    "f1_score(model_ensemble['label'],truth_label)"
   ]
  },
  {
   "cell_type": "code",
   "execution_count": 101,
   "id": "2fa42261",
   "metadata": {},
   "outputs": [
    {
     "data": {
      "text/plain": [
       "array([[1110,  545],\n",
       "       [ 140,  205]])"
      ]
     },
     "execution_count": 101,
     "metadata": {},
     "output_type": "execute_result"
    }
   ],
   "source": [
    "confusion_matrix(model_ensemble['label'],truth_label)"
   ]
  },
  {
   "cell_type": "markdown",
   "id": "a66cce08",
   "metadata": {},
   "source": [
    "# Ensembling Validation Set"
   ]
  },
  {
   "cell_type": "code",
   "execution_count": 102,
   "id": "7e68e79e",
   "metadata": {},
   "outputs": [],
   "source": [
    "arr1_val = np.array(data_concatBert_val['label'])\n",
    "arr2_val = np.array(data_mmbt_val['label'])\n",
    "arr3_val = np.array(data_lateFusion_val['label'])\n",
    "result2 = np.stack((arr1_val.T, arr2_val.T, arr3_val.T), axis=1)"
   ]
  },
  {
   "cell_type": "code",
   "execution_count": 103,
   "id": "620e2ad6",
   "metadata": {},
   "outputs": [],
   "source": [
    "array2 = []\n",
    "for i in range(result2.shape[0]):\n",
    "    x = Counter(result[i])\n",
    "    array2.append(x.most_common(1)[0][0])\n",
    "    \n",
    "array2 = np.array(array2)"
   ]
  },
  {
   "cell_type": "code",
   "execution_count": 104,
   "id": "bcbb5c92",
   "metadata": {},
   "outputs": [],
   "source": [
    "model_ensemble_val = data_concatBert_val.copy()\n",
    "model_ensemble_val['label'] = array2"
   ]
  },
  {
   "cell_type": "markdown",
   "id": "9e7e0737",
   "metadata": {},
   "source": [
    "### Ensemble accuracy, F1 scores and confusion matrix value set"
   ]
  },
  {
   "cell_type": "code",
   "execution_count": 105,
   "id": "2ddf67da",
   "metadata": {},
   "outputs": [
    {
     "data": {
      "text/plain": [
       "0.5592592592592592"
      ]
     },
     "execution_count": 105,
     "metadata": {},
     "output_type": "execute_result"
    }
   ],
   "source": [
    "accuracy_score(model_ensemble_val['label'],truth_label1)"
   ]
  },
  {
   "cell_type": "code",
   "execution_count": 106,
   "id": "10d4b1dd",
   "metadata": {},
   "outputs": [
    {
     "data": {
      "text/plain": [
       "0.3081395348837209"
      ]
     },
     "execution_count": 106,
     "metadata": {},
     "output_type": "execute_result"
    }
   ],
   "source": [
    "f1_score(model_ensemble_val['label'],truth_label1)"
   ]
  },
  {
   "cell_type": "code",
   "execution_count": 107,
   "id": "e2397c17",
   "metadata": {},
   "outputs": [
    {
     "data": {
      "text/plain": [
       "array([[249, 147],\n",
       "       [ 91,  53]])"
      ]
     },
     "execution_count": 107,
     "metadata": {},
     "output_type": "execute_result"
    }
   ],
   "source": [
    "confusion_matrix(model_ensemble_val['label'],truth_label1)"
   ]
  },
  {
   "cell_type": "markdown",
   "id": "db27528c",
   "metadata": {},
   "source": [
    "## Ensemble Goodness over individual model's false positives and false negatives"
   ]
  },
  {
   "cell_type": "code",
   "execution_count": 136,
   "id": "f0d70d21",
   "metadata": {},
   "outputs": [],
   "source": [
    "output_ensemble = model_ensemble[model_ensemble['label'] == truth_label]"
   ]
  },
  {
   "cell_type": "code",
   "execution_count": 137,
   "id": "c342b554",
   "metadata": {},
   "outputs": [
    {
     "data": {
      "text/plain": [
       "750     86405\n",
       "751     81926\n",
       "754     60315\n",
       "755     45217\n",
       "756     92640\n",
       "        ...  \n",
       "1995    71352\n",
       "1996     2164\n",
       "1997     3587\n",
       "1998    47839\n",
       "1999    34281\n",
       "Name: id, Length: 1110, dtype: int64"
      ]
     },
     "execution_count": 137,
     "metadata": {},
     "output_type": "execute_result"
    }
   ],
   "source": [
    "output_ensemble[output_ensemble['label'] == 0]['id']"
   ]
  },
  {
   "cell_type": "code",
   "execution_count": 138,
   "id": "b3d5a663",
   "metadata": {},
   "outputs": [
    {
     "data": {
      "text/plain": [
       "1      38794\n",
       "6      63425\n",
       "7      72360\n",
       "11     78093\n",
       "12      8179\n",
       "       ...  \n",
       "741    17934\n",
       "743    31957\n",
       "744    10647\n",
       "746    84657\n",
       "749    49052\n",
       "Name: id, Length: 205, dtype: int64"
      ]
     },
     "execution_count": 138,
     "metadata": {},
     "output_type": "execute_result"
    }
   ],
   "source": [
    "output_ensemble[output_ensemble['label'] == 1]['id']"
   ]
  },
  {
   "cell_type": "code",
   "execution_count": 158,
   "id": "1e6a41ea",
   "metadata": {},
   "outputs": [
    {
     "data": {
      "text/html": [
       "<div>\n",
       "<style scoped>\n",
       "    .dataframe tbody tr th:only-of-type {\n",
       "        vertical-align: middle;\n",
       "    }\n",
       "\n",
       "    .dataframe tbody tr th {\n",
       "        vertical-align: top;\n",
       "    }\n",
       "\n",
       "    .dataframe thead th {\n",
       "        text-align: right;\n",
       "    }\n",
       "</style>\n",
       "<table border=\"1\" class=\"dataframe\">\n",
       "  <thead>\n",
       "    <tr style=\"text-align: right;\">\n",
       "      <th></th>\n",
       "      <th>id</th>\n",
       "      <th>proba</th>\n",
       "      <th>label</th>\n",
       "    </tr>\n",
       "  </thead>\n",
       "  <tbody>\n",
       "    <tr>\n",
       "      <th>1995</th>\n",
       "      <td>71352</td>\n",
       "      <td>0.340365</td>\n",
       "      <td>0</td>\n",
       "    </tr>\n",
       "  </tbody>\n",
       "</table>\n",
       "</div>"
      ],
      "text/plain": [
       "         id     proba  label\n",
       "1995  71352  0.340365      0"
      ]
     },
     "execution_count": 158,
     "metadata": {},
     "output_type": "execute_result"
    }
   ],
   "source": [
    "data_concat_bert[data_concat_bert['id']==71352]"
   ]
  },
  {
   "cell_type": "code",
   "execution_count": 159,
   "id": "a5e1b06e",
   "metadata": {},
   "outputs": [
    {
     "data": {
      "text/html": [
       "<div>\n",
       "<style scoped>\n",
       "    .dataframe tbody tr th:only-of-type {\n",
       "        vertical-align: middle;\n",
       "    }\n",
       "\n",
       "    .dataframe tbody tr th {\n",
       "        vertical-align: top;\n",
       "    }\n",
       "\n",
       "    .dataframe thead th {\n",
       "        text-align: right;\n",
       "    }\n",
       "</style>\n",
       "<table border=\"1\" class=\"dataframe\">\n",
       "  <thead>\n",
       "    <tr style=\"text-align: right;\">\n",
       "      <th></th>\n",
       "      <th>id</th>\n",
       "      <th>proba</th>\n",
       "      <th>label</th>\n",
       "    </tr>\n",
       "  </thead>\n",
       "  <tbody>\n",
       "    <tr>\n",
       "      <th>1995</th>\n",
       "      <td>71352</td>\n",
       "      <td>0.124255</td>\n",
       "      <td>0</td>\n",
       "    </tr>\n",
       "  </tbody>\n",
       "</table>\n",
       "</div>"
      ],
      "text/plain": [
       "         id     proba  label\n",
       "1995  71352  0.124255      0"
      ]
     },
     "execution_count": 159,
     "metadata": {},
     "output_type": "execute_result"
    }
   ],
   "source": [
    "data_mmbt[data_mmbt['id']==71352]"
   ]
  },
  {
   "cell_type": "code",
   "execution_count": 160,
   "id": "48370c01",
   "metadata": {},
   "outputs": [
    {
     "data": {
      "text/html": [
       "<div>\n",
       "<style scoped>\n",
       "    .dataframe tbody tr th:only-of-type {\n",
       "        vertical-align: middle;\n",
       "    }\n",
       "\n",
       "    .dataframe tbody tr th {\n",
       "        vertical-align: top;\n",
       "    }\n",
       "\n",
       "    .dataframe thead th {\n",
       "        text-align: right;\n",
       "    }\n",
       "</style>\n",
       "<table border=\"1\" class=\"dataframe\">\n",
       "  <thead>\n",
       "    <tr style=\"text-align: right;\">\n",
       "      <th></th>\n",
       "      <th>id</th>\n",
       "      <th>proba</th>\n",
       "      <th>label</th>\n",
       "    </tr>\n",
       "  </thead>\n",
       "  <tbody>\n",
       "    <tr>\n",
       "      <th>1995</th>\n",
       "      <td>71352</td>\n",
       "      <td>0.717142</td>\n",
       "      <td>1</td>\n",
       "    </tr>\n",
       "  </tbody>\n",
       "</table>\n",
       "</div>"
      ],
      "text/plain": [
       "         id     proba  label\n",
       "1995  71352  0.717142      1"
      ]
     },
     "execution_count": 160,
     "metadata": {},
     "output_type": "execute_result"
    }
   ],
   "source": [
    "data_late_fusion[data_late_fusion['id']==71352]"
   ]
  },
  {
   "cell_type": "code",
   "execution_count": null,
   "id": "51fa615e",
   "metadata": {},
   "outputs": [],
   "source": []
  }
 ],
 "metadata": {
  "kernelspec": {
   "display_name": "Python 3 (ipykernel)",
   "language": "python",
   "name": "python3"
  },
  "language_info": {
   "codemirror_mode": {
    "name": "ipython",
    "version": 3
   },
   "file_extension": ".py",
   "mimetype": "text/x-python",
   "name": "python",
   "nbconvert_exporter": "python",
   "pygments_lexer": "ipython3",
   "version": "3.8.12"
  }
 },
 "nbformat": 4,
 "nbformat_minor": 5
}
